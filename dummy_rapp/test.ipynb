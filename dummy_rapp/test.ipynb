{
  "cells": [
    {
      "cell_type": "code",
      "execution_count": 31,
      "metadata": {},
      "outputs": [],
      "source": [
        "import networkx as nx\n",
        "from pprint import pprint\n",
        "\n",
        "g = nx.read_graphml(\"../simulator/test_data/firenze_45_28.graphml\")\n",
        "\n",
        "for src,tgt, d in g.copy().edges(data=True):\n",
        "    if d['pathloss'] < -80:\n",
        "        g.remove_edge(src,tgt)"
      ]
    },
    {
      "cell_type": "code",
      "execution_count": 32,
      "metadata": {},
      "outputs": [],
      "source": [
        "donors = [n for n in g.nodes() if g.nodes[n]['type'] == 'donor']"
      ]
    },
    {
      "cell_type": "code",
      "execution_count": 17,
      "metadata": {},
      "outputs": [
        {
          "name": "stdout",
          "output_type": "stream",
          "text": [
            "['8_mt', '8_relay', '10_mt', '10_relay', '20_mt', '20_relay']\n"
          ]
        }
      ],
      "source": [
        "print(donors)"
      ]
    },
    {
      "cell_type": "code",
      "execution_count": 33,
      "metadata": {},
      "outputs": [
        {
          "name": "stdout",
          "output_type": "stream",
          "text": [
            "{'8_mt': ['8_mt'], '8_relay': ['8_relay'], '10_mt': ['10_mt'], '10_relay': ['10_relay'], '20_mt': ['20_mt'], '20_relay': ['20_relay'], '0_mt': ['8_mt', '0_mt'], '0_relay': ['8_mt', '0_relay'], '5_mt': ['8_mt', '5_mt'], '5_relay': ['8_mt', '5_relay'], '13_mt': ['8_mt', '13_mt'], '13_relay': ['8_mt', '13_relay'], '18_mt': ['8_mt', '18_mt'], '18_relay': ['8_mt', '18_relay'], '1_mt': ['10_mt', '1_mt'], '1_relay': ['10_mt', '1_relay'], '2_mt': ['10_mt', '2_mt'], '2_relay': ['10_mt', '2_relay'], '16_mt': ['10_mt', '16_mt'], '16_relay': ['10_mt', '16_relay'], '3_mt': ['20_mt', '3_mt'], '3_relay': ['20_mt', '3_relay'], '4_mt': ['20_mt', '4_mt'], '4_relay': ['20_mt', '4_relay'], '7_mt': ['20_mt', '7_mt'], '7_relay': ['20_mt', '7_relay'], '9_mt': ['20_mt', '9_mt'], '9_relay': ['20_mt', '9_relay'], '12_mt': ['20_mt', '12_mt'], '12_relay': ['20_mt', '12_relay'], '19_mt': ['8_mt', '0_mt', '19_mt'], '19_relay': ['8_mt', '0_mt', '19_relay'], '15_mt': ['8_mt', '5_mt', '15_mt'], '15_relay': ['8_mt', '5_mt', '15_relay'], '17_mt': ['8_mt', '5_mt', '17_mt'], '17_relay': ['8_mt', '5_mt', '17_relay'], '6_mt': ['8_mt', '18_mt', '6_mt'], '6_relay': ['8_mt', '18_mt', '6_relay'], '14_mt': ['10_mt', '1_mt', '14_mt'], '14_relay': ['10_mt', '1_mt', '14_relay'], '21_mt': ['10_mt', '1_mt', '21_mt'], '21_relay': ['10_mt', '1_mt', '21_relay'], '11_mt': ['20_mt', '7_mt', '11_mt'], '11_relay': ['20_mt', '7_mt', '11_relay']}\n"
          ]
        }
      ],
      "source": [
        "end_nodes = [n for n in g.nodes() if g.nodes[n]['type'] == 'relay' and g.nodes[n]['iab_type'] == 'gnb' and n not in donors]\n",
        "paths = nx.multi_source_dijkstra_path(g, donors)\n",
        "print(paths)\n",
        "# topo = nx.Graph()\n",
        "# for src, p in paths.items():\n",
        "#     if src in end_nodes:\n",
        "        "
      ]
    }
  ],
  "metadata": {
    "kernelspec": {
      "display_name": "Python 3.10.7 ('truenets')",
      "language": "python",
      "name": "python3"
    },
    "language_info": {
      "codemirror_mode": {
        "name": "ipython",
        "version": 3
      },
      "file_extension": ".py",
      "mimetype": "text/x-python",
      "name": "python",
      "nbconvert_exporter": "python",
      "pygments_lexer": "ipython3",
      "version": "3.10.8"
    },
    "orig_nbformat": 4,
    "vscode": {
      "interpreter": {
        "hash": "658faa4c88324c9d3a8a458c45a97d8effb15b250fb0ab07f9efe3f6f40bac1f"
      }
    }
  },
  "nbformat": 4,
  "nbformat_minor": 2
}
